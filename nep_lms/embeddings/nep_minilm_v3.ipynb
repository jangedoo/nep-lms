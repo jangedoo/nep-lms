{
 "cells": [
  {
   "cell_type": "code",
   "execution_count": 1,
   "id": "7320b39c",
   "metadata": {},
   "outputs": [],
   "source": [
    "%load_ext autoreload\n",
    "%autoreload 2"
   ]
  },
  {
   "cell_type": "code",
   "execution_count": 73,
   "id": "886a598e",
   "metadata": {},
   "outputs": [
    {
     "data": {
      "application/vnd.jupyter.widget-view+json": {
       "model_id": "aff0f713cbb2466f959d3c51f233aacf",
       "version_major": 2,
       "version_minor": 0
      },
      "text/plain": [
       "README.md: 0.00B [00:00, ?B/s]"
      ]
     },
     "metadata": {},
     "output_type": "display_data"
    },
    {
     "data": {
      "application/vnd.jupyter.widget-view+json": {
       "model_id": "43bef22876c34595baf867788a03d1d2",
       "version_major": 2,
       "version_minor": 0
      },
      "text/plain": [
       "model.safetensors:   0%|          | 0.00/90.9M [00:00<?, ?B/s]"
      ]
     },
     "metadata": {},
     "output_type": "display_data"
    },
    {
     "data": {
      "application/vnd.jupyter.widget-view+json": {
       "model_id": "e9e9a29410c0429c8692ff5405593a76",
       "version_major": 2,
       "version_minor": 0
      },
      "text/plain": [
       "Computing widget examples:   0%|          | 0/1 [00:00<?, ?example/s]"
      ]
     },
     "metadata": {},
     "output_type": "display_data"
    },
    {
     "data": {
      "text/html": [
       "\n",
       "    <div>\n",
       "      \n",
       "      <progress value='250' max='250' style='width:300px; height:20px; vertical-align: middle;'></progress>\n",
       "      [250/250 02:07, Epoch 10/10]\n",
       "    </div>\n",
       "    <table border=\"1\" class=\"dataframe\">\n",
       "  <thead>\n",
       " <tr style=\"text-align: left;\">\n",
       "      <th>Step</th>\n",
       "      <th>Training Loss</th>\n",
       "      <th>Validation Loss</th>\n",
       "      <th>Nepali Triplets Loss</th>\n",
       "    </tr>\n",
       "  </thead>\n",
       "  <tbody>\n",
       "    <tr>\n",
       "      <td>100</td>\n",
       "      <td>0.069600</td>\n",
       "      <td>No log</td>\n",
       "      <td>0.048725</td>\n",
       "    </tr>\n",
       "    <tr>\n",
       "      <td>200</td>\n",
       "      <td>0.029900</td>\n",
       "      <td>No log</td>\n",
       "      <td>0.043339</td>\n",
       "    </tr>\n",
       "  </tbody>\n",
       "</table><p>"
      ],
      "text/plain": [
       "<IPython.core.display.HTML object>"
      ]
     },
     "metadata": {},
     "output_type": "display_data"
    },
    {
     "data": {
      "text/plain": [
       "<sentence_transformers.trainer.SentenceTransformerTrainer at 0x7cb82df8ed10>"
      ]
     },
     "execution_count": 73,
     "metadata": {},
     "output_type": "execute_result"
    }
   ],
   "source": [
    "from nep_lms.embeddings.variants import MiniLML6V3Variant\n",
    "\n",
    "variant = MiniLML6V3Variant()\n",
    "variant.train(epochs=10, lr=2e-5, early_stop=True, early_stop_patience=4, push_to_hub=False)"
   ]
  },
  {
   "cell_type": "code",
   "execution_count": 85,
   "id": "1887a91e",
   "metadata": {},
   "outputs": [],
   "source": [
    "# variant.push_to_hub()"
   ]
  },
  {
   "cell_type": "code",
   "execution_count": 74,
   "id": "7c8c8b07",
   "metadata": {},
   "outputs": [],
   "source": [
    "from sentence_transformers import SentenceTransformer\n",
    "nep_mini_lm_v2 = SentenceTransformer(\"jangedoo/all-MiniLM-L6-v2-nepali\")\n",
    "nep_mini_lm_v3 = SentenceTransformer(\"jangedoo/all-MiniLM-L6-v3-nepali\")\n",
    "e5_small = SentenceTransformer(\"intfloat/multilingual-e5-small\")"
   ]
  },
  {
   "cell_type": "code",
   "execution_count": 75,
   "id": "53bbb56b",
   "metadata": {},
   "outputs": [
    {
     "data": {
      "text/html": [
       "\n",
       "            <div id=\"eGprQF\"></div>\n",
       "            <script type=\"text/javascript\" data-lets-plot-script=\"library\">\n",
       "                if(!window.letsPlotCallQueue) {\n",
       "                    window.letsPlotCallQueue = [];\n",
       "                }; \n",
       "                window.letsPlotCall = function(f) {\n",
       "                    window.letsPlotCallQueue.push(f);\n",
       "                };\n",
       "                (function() {\n",
       "                    var script = document.createElement(\"script\");\n",
       "                    script.type = \"text/javascript\";\n",
       "                    script.src = \"https://cdn.jsdelivr.net/gh/JetBrains/lets-plot@v4.6.2/js-package/distr/lets-plot.min.js\";\n",
       "                    script.onload = function() {\n",
       "                        window.letsPlotCall = function(f) {f();};\n",
       "                        window.letsPlotCallQueue.forEach(function(f) {f();});\n",
       "                        window.letsPlotCallQueue = [];\n",
       "                        \n",
       "                    };\n",
       "                    script.onerror = function(event) {\n",
       "                        window.letsPlotCall = function(f) {};    // noop\n",
       "                        window.letsPlotCallQueue = [];\n",
       "                        var div = document.createElement(\"div\");\n",
       "                        div.style.color = 'darkred';\n",
       "                        div.textContent = 'Error loading Lets-Plot JS';\n",
       "                        document.getElementById(\"eGprQF\").appendChild(div);\n",
       "                    };\n",
       "                    var e = document.getElementById(\"eGprQF\");\n",
       "                    e.appendChild(script);\n",
       "                })()\n",
       "            </script>\n",
       "            "
      ]
     },
     "metadata": {},
     "output_type": "display_data"
    },
    {
     "data": {
      "text/html": [
       "   <div id=\"NGdWdY\"></div>\n",
       "   <script type=\"text/javascript\" data-lets-plot-script=\"plot\">\n",
       "   \n",
       "   (function() {\n",
       "   // ----------\n",
       "   \n",
       "   const forceImmediateRender = false;\n",
       "   const responsive = false;\n",
       "   \n",
       "   let sizing = {\n",
       "       width_mode: \"MIN\",\n",
       "       height_mode: \"SCALED\",\n",
       "       width: null, \n",
       "       height: null \n",
       "   };\n",
       "   \n",
       "   const preferredWidth = document.body.dataset.letsPlotPreferredWidth;\n",
       "   if (preferredWidth !== undefined) {\n",
       "       sizing = {\n",
       "           width_mode: 'FIXED',\n",
       "           height_mode: 'SCALED',\n",
       "           width: parseFloat(preferredWidth)\n",
       "       };\n",
       "   }\n",
       "   \n",
       "   const containerDiv = document.getElementById(\"NGdWdY\");\n",
       "   let fig = null;\n",
       "   \n",
       "   function renderPlot() {\n",
       "       if (fig === null) {\n",
       "           const plotSpec = {\n",
       "\"data\":{\n",
       "\"metric\":[\"multi_lang_ir_cosine_recall@10\",\"en_ir_cosine_recall@10\",\"ne_ir_cosine_recall@10\",\"translation_mean_accuracy\",\"nepali_triplets_cosine_accuracy\",\"multi_lang_ir_cosine_recall@10\",\"en_ir_cosine_recall@10\",\"ne_ir_cosine_recall@10\",\"translation_mean_accuracy\",\"nepali_triplets_cosine_accuracy\",\"multi_lang_ir_cosine_recall@10\",\"en_ir_cosine_recall@10\",\"ne_ir_cosine_recall@10\",\"translation_mean_accuracy\",\"nepali_triplets_cosine_accuracy\",\"multi_lang_ir_cosine_recall@10\",\"en_ir_cosine_recall@10\",\"ne_ir_cosine_recall@10\",\"translation_mean_accuracy\",\"nepali_triplets_cosine_accuracy\"],\n",
       "\"value\":[0.9238339751818571,0.9648648648648649,0.9104571070757671,0.4960159362549801,0.375,0.9696191698759092,0.972972972972973,0.9699436443331246,0.8399734395750332,0.009999999776482582,0.9726144629867352,0.9864864864864865,0.9693174702567313,0.7377158034528553,0.4449999928474426,0.8592212237911853,0.9702702702702702,0.8278021289918598,0.6308100929614874,0.8149999976158142],\n",
       "\"model\":[\"nep_mini_lm_v2\",\"nep_mini_lm_v2\",\"nep_mini_lm_v2\",\"nep_mini_lm_v2\",\"nep_mini_lm_v2\",\"e5_small\",\"e5_small\",\"e5_small\",\"e5_small\",\"e5_small\",\"nep_mini_lm_v3\",\"nep_mini_lm_v3\",\"nep_mini_lm_v3\",\"nep_mini_lm_v3\",\"nep_mini_lm_v3\",\"nep_mini_lm_v3.1\",\"nep_mini_lm_v3.1\",\"nep_mini_lm_v3.1\",\"nep_mini_lm_v3.1\",\"nep_mini_lm_v3.1\"]\n",
       "},\n",
       "\"mapping\":{\n",
       "\"x\":\"model\",\n",
       "\"y\":\"value\",\n",
       "\"fill\":\"model\"\n",
       "},\n",
       "\"data_meta\":{\n",
       "\"series_annotations\":[{\n",
       "\"type\":\"str\",\n",
       "\"column\":\"metric\"\n",
       "},{\n",
       "\"type\":\"float\",\n",
       "\"column\":\"value\"\n",
       "},{\n",
       "\"type\":\"str\",\n",
       "\"column\":\"model\"\n",
       "}]\n",
       "},\n",
       "\"facet\":{\n",
       "\"name\":\"wrap\",\n",
       "\"facets\":\"metric\",\n",
       "\"ncol\":2.0,\n",
       "\"order\":1.0,\n",
       "\"dir\":\"h\"\n",
       "},\n",
       "\"theme\":{\n",
       "\"name\":\"minimal2\"\n",
       "},\n",
       "\"kind\":\"plot\",\n",
       "\"scales\":[],\n",
       "\"layers\":[{\n",
       "\"geom\":\"bar\",\n",
       "\"stat\":\"identity\",\n",
       "\"mapping\":{\n",
       "},\n",
       "\"data_meta\":{\n",
       "},\n",
       "\"data\":{\n",
       "}\n",
       "},{\n",
       "\"geom\":\"text\",\n",
       "\"mapping\":{\n",
       "\"label\":\"value\"\n",
       "},\n",
       "\"data_meta\":{\n",
       "},\n",
       "\"label_format\":\".2f\",\n",
       "\"data\":{\n",
       "}\n",
       "}],\n",
       "\"metainfo_list\":[],\n",
       "\"spec_id\":\"10\"\n",
       "};\n",
       "           window.letsPlotCall(function() { fig = LetsPlot.buildPlotFromProcessedSpecs(plotSpec, containerDiv, sizing); });\n",
       "       } else {\n",
       "           fig.updateView({});\n",
       "       }\n",
       "   }\n",
       "   \n",
       "   const renderImmediately = \n",
       "       forceImmediateRender || (\n",
       "           sizing.width_mode === 'FIXED' && \n",
       "           (sizing.height_mode === 'FIXED' || sizing.height_mode === 'SCALED')\n",
       "       );\n",
       "   \n",
       "   if (renderImmediately) {\n",
       "       renderPlot();\n",
       "   }\n",
       "   \n",
       "   if (!renderImmediately || responsive) {\n",
       "       // Set up observer for initial sizing or continuous monitoring\n",
       "       var observer = new ResizeObserver(function(entries) {\n",
       "           for (let entry of entries) {\n",
       "               if (entry.contentBoxSize && \n",
       "                   entry.contentBoxSize[0].inlineSize > 0) {\n",
       "                   if (!responsive && observer) {\n",
       "                       observer.disconnect();\n",
       "                       observer = null;\n",
       "                   }\n",
       "                   renderPlot();\n",
       "                   if (!responsive) {\n",
       "                       break;\n",
       "                   }\n",
       "               }\n",
       "           }\n",
       "       });\n",
       "       \n",
       "       observer.observe(containerDiv);\n",
       "   }\n",
       "   \n",
       "   // ----------\n",
       "   })();\n",
       "   \n",
       "   </script>"
      ],
      "text/plain": [
       "<lets_plot.plot.core.PlotSpec at 0x7cb84032ef10>"
      ]
     },
     "execution_count": 75,
     "metadata": {},
     "output_type": "execute_result"
    }
   ],
   "source": [
    "exp = variant.experiment\n",
    "all_models = {\n",
    "    'nep_mini_lm_v2': nep_mini_lm_v2,\n",
    "    'e5_small': e5_small,\n",
    "    'nep_mini_lm_v3': nep_mini_lm_v3,\n",
    "    'nep_mini_lm_v3.1': variant.model,\n",
    "}\n",
    "exp.compare(models=all_models)\n",
    "exp.plot_model_comparison()"
   ]
  },
  {
   "cell_type": "code",
   "execution_count": 76,
   "id": "f15eda71",
   "metadata": {},
   "outputs": [],
   "source": [
    "import easyknn\n",
    "\n",
    "texts = exp.nepali_news_ds['valid']['excerpt']\n",
    "v2_embeddings = nep_mini_lm_v2.encode(texts, convert_to_numpy=True)\n",
    "v3_embeddings = variant.model.encode(texts, convert_to_numpy=True)\n",
    "e5_embeddings = e5_small.encode(texts, convert_to_numpy=True)\n",
    "\n",
    "def get_knn(embeddings, texts):\n",
    "    builder = easyknn.EmbeddingsIndexBuilder()\n",
    "    builder.add(embeddings=embeddings, item_keys=range(len(texts)), items=texts)\n",
    "    return easyknn.EasyKNN.from_builder_with_sklearn(builder=builder)\n",
    "\n",
    "v2_knn = get_knn(v2_embeddings, texts)\n",
    "v3_knn = get_knn(v3_embeddings, texts)\n",
    "e5_knn = get_knn(e5_embeddings, texts)"
   ]
  },
  {
   "cell_type": "code",
   "execution_count": 84,
   "id": "22479ea4",
   "metadata": {},
   "outputs": [
    {
     "data": {
      "application/vnd.jupyter.widget-view+json": {
       "model_id": "a06fb002e79f49e395f37f35da0e0503",
       "version_major": 2,
       "version_minor": 0
      },
      "text/plain": [
       "HBox(children=(VBox(children=(HTML(value=\"v2<br/><ul><li>नेपाल शिक्षक संघले विद्यालय शिक्षा ऐन पारित नभएपछि शि…"
      ]
     },
     "execution_count": 84,
     "metadata": {},
     "output_type": "execute_result"
    }
   ],
   "source": [
    "import ipywidgets as w\n",
    "\n",
    "item_idx = 33\n",
    "v2_results, v2_distances = v2_knn.neighbors_by_item(item=item_idx, k=4)\n",
    "v3_results, v3_distances = v3_knn.neighbors_by_item(item=item_idx, k=4)\n",
    "e5_results, e5_distances = e5_knn.neighbors_by_item(item=item_idx, k=4)\n",
    "\n",
    "w.HBox([\n",
    "    w.VBox([w.HTML(\"v2<br/><ul>\" + \"\\n\".join([f\"<li>{txt} ({dist:.2f})</li>\" for txt, dist in zip(v2_results, v2_distances)]) + \"</ul>\")]),\n",
    "    w.VBox([w.HTML(\"v3<br/><ul>\" + \"\\n\".join([f\"<li>{txt} ({dist:.2f})</li>\" for txt, dist in zip(v3_results, v3_distances)]) + \"</ul>\")]),\n",
    "    w.VBox([w.HTML(\"e5<br/><ul>\" + \"\\n\".join([f\"<li>{txt} ({dist:.2f})</li>\" for txt, dist in zip(e5_results, e5_distances)]) + \"</ul>\")]),\n",
    "])"
   ]
  }
 ],
 "metadata": {
  "kernelspec": {
   "display_name": ".venv",
   "language": "python",
   "name": "python3"
  },
  "language_info": {
   "codemirror_mode": {
    "name": "ipython",
    "version": 3
   },
   "file_extension": ".py",
   "mimetype": "text/x-python",
   "name": "python",
   "nbconvert_exporter": "python",
   "pygments_lexer": "ipython3",
   "version": "3.11.9"
  }
 },
 "nbformat": 4,
 "nbformat_minor": 5
}
