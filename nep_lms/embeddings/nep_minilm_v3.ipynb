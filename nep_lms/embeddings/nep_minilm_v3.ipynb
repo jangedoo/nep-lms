{
 "cells": [
  {
   "cell_type": "code",
   "execution_count": 1,
   "id": "7320b39c",
   "metadata": {},
   "outputs": [],
   "source": [
    "%load_ext autoreload\n",
    "%autoreload 2"
   ]
  },
  {
   "cell_type": "code",
   "execution_count": 9,
   "id": "886a598e",
   "metadata": {},
   "outputs": [
    {
     "data": {
      "application/vnd.jupyter.widget-view+json": {
       "model_id": "6b8ce8cc4e79484dbc92cf699327e8bb",
       "version_major": 2,
       "version_minor": 0
      },
      "text/plain": [
       "Filter:   0%|          | 0/669 [00:00<?, ? examples/s]"
      ]
     },
     "metadata": {},
     "output_type": "display_data"
    },
    {
     "data": {
      "application/vnd.jupyter.widget-view+json": {
       "model_id": "1a90d6394f674df19b2ab964ea2f70e3",
       "version_major": 2,
       "version_minor": 0
      },
      "text/plain": [
       "Filter:   0%|          | 0/34 [00:00<?, ? examples/s]"
      ]
     },
     "metadata": {},
     "output_type": "display_data"
    },
    {
     "data": {
      "application/vnd.jupyter.widget-view+json": {
       "model_id": "5380db48ee484fc1bbe8c829301e7a4c",
       "version_major": 2,
       "version_minor": 0
      },
      "text/plain": [
       "Filter:   0%|          | 0/134 [00:00<?, ? examples/s]"
      ]
     },
     "metadata": {},
     "output_type": "display_data"
    },
    {
     "data": {
      "application/vnd.jupyter.widget-view+json": {
       "model_id": "467ff7b30c6545a7a9ae43ea335291f3",
       "version_major": 2,
       "version_minor": 0
      },
      "text/plain": [
       "Computing widget examples:   0%|          | 0/3 [00:00<?, ?example/s]"
      ]
     },
     "metadata": {},
     "output_type": "display_data"
    },
    {
     "data": {
      "text/html": [
       "\n",
       "    <div>\n",
       "      \n",
       "      <progress value='800' max='4140' style='width:300px; height:20px; vertical-align: middle;'></progress>\n",
       "      [ 800/4140 02:02 < 08:31, 6.53 it/s, Epoch 1/10]\n",
       "    </div>\n",
       "    <table border=\"1\" class=\"dataframe\">\n",
       "  <thead>\n",
       " <tr style=\"text-align: left;\">\n",
       "      <th>Step</th>\n",
       "      <th>Training Loss</th>\n",
       "      <th>Validation Loss</th>\n",
       "      <th>Title Excerpt Loss</th>\n",
       "      <th>With Summary Loss</th>\n",
       "      <th>Ne En Loss</th>\n",
       "      <th>Excerpt Paraphrase Loss</th>\n",
       "    </tr>\n",
       "  </thead>\n",
       "  <tbody>\n",
       "    <tr>\n",
       "      <td>100</td>\n",
       "      <td>0.369200</td>\n",
       "      <td>No log</td>\n",
       "      <td>0.036394</td>\n",
       "      <td>0.013813</td>\n",
       "      <td>0.243402</td>\n",
       "      <td>0.000124</td>\n",
       "    </tr>\n",
       "    <tr>\n",
       "      <td>200</td>\n",
       "      <td>0.332900</td>\n",
       "      <td>No log</td>\n",
       "      <td>0.033621</td>\n",
       "      <td>0.012324</td>\n",
       "      <td>0.227694</td>\n",
       "      <td>0.000093</td>\n",
       "    </tr>\n",
       "    <tr>\n",
       "      <td>300</td>\n",
       "      <td>0.353400</td>\n",
       "      <td>No log</td>\n",
       "      <td>0.031169</td>\n",
       "      <td>0.010828</td>\n",
       "      <td>0.209932</td>\n",
       "      <td>0.000078</td>\n",
       "    </tr>\n",
       "    <tr>\n",
       "      <td>400</td>\n",
       "      <td>0.268600</td>\n",
       "      <td>No log</td>\n",
       "      <td>0.029400</td>\n",
       "      <td>0.009834</td>\n",
       "      <td>0.199097</td>\n",
       "      <td>0.000068</td>\n",
       "    </tr>\n",
       "    <tr>\n",
       "      <td>500</td>\n",
       "      <td>0.286700</td>\n",
       "      <td>No log</td>\n",
       "      <td>0.028403</td>\n",
       "      <td>0.009186</td>\n",
       "      <td>0.186802</td>\n",
       "      <td>0.000071</td>\n",
       "    </tr>\n",
       "    <tr>\n",
       "      <td>600</td>\n",
       "      <td>0.252000</td>\n",
       "      <td>No log</td>\n",
       "      <td>0.027403</td>\n",
       "      <td>0.008988</td>\n",
       "      <td>0.181903</td>\n",
       "      <td>0.000069</td>\n",
       "    </tr>\n",
       "    <tr>\n",
       "      <td>700</td>\n",
       "      <td>0.264000</td>\n",
       "      <td>No log</td>\n",
       "      <td>0.026436</td>\n",
       "      <td>0.008985</td>\n",
       "      <td>0.169967</td>\n",
       "      <td>0.000073</td>\n",
       "    </tr>\n",
       "    <tr>\n",
       "      <td>800</td>\n",
       "      <td>0.276400</td>\n",
       "      <td>No log</td>\n",
       "      <td>0.026820</td>\n",
       "      <td>0.008927</td>\n",
       "      <td>0.162206</td>\n",
       "      <td>0.000082</td>\n",
       "    </tr>\n",
       "  </tbody>\n",
       "</table><p>"
      ],
      "text/plain": [
       "<IPython.core.display.HTML object>"
      ]
     },
     "metadata": {},
     "output_type": "display_data"
    },
    {
     "name": "stderr",
     "output_type": "stream",
     "text": [
      "early stopping required metric_for_best_model, but did not find eval_excerpt_paraphrase_loss so early stopping is disabled\n",
      "early stopping required metric_for_best_model, but did not find eval_excerpt_paraphrase_loss so early stopping is disabled\n",
      "early stopping required metric_for_best_model, but did not find eval_excerpt_paraphrase_loss so early stopping is disabled\n",
      "early stopping required metric_for_best_model, but did not find eval_excerpt_paraphrase_loss so early stopping is disabled\n",
      "early stopping required metric_for_best_model, but did not find eval_excerpt_paraphrase_loss so early stopping is disabled\n",
      "early stopping required metric_for_best_model, but did not find eval_excerpt_paraphrase_loss so early stopping is disabled\n",
      "early stopping required metric_for_best_model, but did not find eval_excerpt_paraphrase_loss so early stopping is disabled\n",
      "early stopping required metric_for_best_model, but did not find eval_excerpt_paraphrase_loss so early stopping is disabled\n",
      "early stopping required metric_for_best_model, but did not find eval_excerpt_paraphrase_loss so early stopping is disabled\n",
      "early stopping required metric_for_best_model, but did not find eval_excerpt_paraphrase_loss so early stopping is disabled\n",
      "early stopping required metric_for_best_model, but did not find eval_excerpt_paraphrase_loss so early stopping is disabled\n",
      "early stopping required metric_for_best_model, but did not find eval_excerpt_paraphrase_loss so early stopping is disabled\n",
      "early stopping required metric_for_best_model, but did not find eval_excerpt_paraphrase_loss so early stopping is disabled\n",
      "early stopping required metric_for_best_model, but did not find eval_excerpt_paraphrase_loss so early stopping is disabled\n",
      "early stopping required metric_for_best_model, but did not find eval_excerpt_paraphrase_loss so early stopping is disabled\n",
      "early stopping required metric_for_best_model, but did not find eval_excerpt_paraphrase_loss so early stopping is disabled\n",
      "early stopping required metric_for_best_model, but did not find eval_excerpt_paraphrase_loss so early stopping is disabled\n",
      "early stopping required metric_for_best_model, but did not find eval_excerpt_paraphrase_loss so early stopping is disabled\n",
      "early stopping required metric_for_best_model, but did not find eval_excerpt_paraphrase_loss so early stopping is disabled\n",
      "early stopping required metric_for_best_model, but did not find eval_excerpt_paraphrase_loss so early stopping is disabled\n",
      "early stopping required metric_for_best_model, but did not find eval_excerpt_paraphrase_loss so early stopping is disabled\n",
      "early stopping required metric_for_best_model, but did not find eval_excerpt_paraphrase_loss so early stopping is disabled\n",
      "early stopping required metric_for_best_model, but did not find eval_excerpt_paraphrase_loss so early stopping is disabled\n",
      "early stopping required metric_for_best_model, but did not find eval_excerpt_paraphrase_loss so early stopping is disabled\n"
     ]
    },
    {
     "data": {
      "text/plain": [
       "<sentence_transformers.trainer.SentenceTransformerTrainer at 0x77364ac8cc50>"
      ]
     },
     "execution_count": 9,
     "metadata": {},
     "output_type": "execute_result"
    }
   ],
   "source": [
    "from nep_lms.embeddings.variants import MiniLML6V3Variant\n",
    "\n",
    "variant = MiniLML6V3Variant()\n",
    "variant.train(epochs=10, early_stop=True, early_stop_patience=4, push_to_hub=False)"
   ]
  },
  {
   "cell_type": "code",
   "execution_count": 4,
   "id": "7c8c8b07",
   "metadata": {},
   "outputs": [],
   "source": [
    "from sentence_transformers import SentenceTransformer\n",
    "nep_mini_lm_v2 = SentenceTransformer(\"jangedoo/all-MiniLM-L6-v2-nepali\")\n",
    "nep_mini_lm_v3 = SentenceTransformer(\"jangedoo/all-MiniLM-L6-v3-nepali\")\n",
    "e5_small = SentenceTransformer(\"intfloat/multilingual-e5-small\")"
   ]
  },
  {
   "cell_type": "code",
   "execution_count": 10,
   "id": "53bbb56b",
   "metadata": {},
   "outputs": [
    {
     "data": {
      "text/html": [
       "\n",
       "            <div id=\"0O8xgR\"></div>\n",
       "            <script type=\"text/javascript\" data-lets-plot-script=\"library\">\n",
       "                if(!window.letsPlotCallQueue) {\n",
       "                    window.letsPlotCallQueue = [];\n",
       "                }; \n",
       "                window.letsPlotCall = function(f) {\n",
       "                    window.letsPlotCallQueue.push(f);\n",
       "                };\n",
       "                (function() {\n",
       "                    var script = document.createElement(\"script\");\n",
       "                    script.type = \"text/javascript\";\n",
       "                    script.src = \"https://cdn.jsdelivr.net/gh/JetBrains/lets-plot@v4.6.2/js-package/distr/lets-plot.min.js\";\n",
       "                    script.onload = function() {\n",
       "                        window.letsPlotCall = function(f) {f();};\n",
       "                        window.letsPlotCallQueue.forEach(function(f) {f();});\n",
       "                        window.letsPlotCallQueue = [];\n",
       "                        \n",
       "                    };\n",
       "                    script.onerror = function(event) {\n",
       "                        window.letsPlotCall = function(f) {};    // noop\n",
       "                        window.letsPlotCallQueue = [];\n",
       "                        var div = document.createElement(\"div\");\n",
       "                        div.style.color = 'darkred';\n",
       "                        div.textContent = 'Error loading Lets-Plot JS';\n",
       "                        document.getElementById(\"0O8xgR\").appendChild(div);\n",
       "                    };\n",
       "                    var e = document.getElementById(\"0O8xgR\");\n",
       "                    e.appendChild(script);\n",
       "                })()\n",
       "            </script>\n",
       "            "
      ]
     },
     "metadata": {},
     "output_type": "display_data"
    },
    {
     "data": {
      "text/html": [
       "   <div id=\"1P2xR0\"></div>\n",
       "   <script type=\"text/javascript\" data-lets-plot-script=\"plot\">\n",
       "   \n",
       "   (function() {\n",
       "   // ----------\n",
       "   \n",
       "   const forceImmediateRender = false;\n",
       "   const responsive = false;\n",
       "   \n",
       "   let sizing = {\n",
       "       width_mode: \"MIN\",\n",
       "       height_mode: \"SCALED\",\n",
       "       width: null, \n",
       "       height: null \n",
       "   };\n",
       "   \n",
       "   const preferredWidth = document.body.dataset.letsPlotPreferredWidth;\n",
       "   if (preferredWidth !== undefined) {\n",
       "       sizing = {\n",
       "           width_mode: 'FIXED',\n",
       "           height_mode: 'SCALED',\n",
       "           width: parseFloat(preferredWidth)\n",
       "       };\n",
       "   }\n",
       "   \n",
       "   const containerDiv = document.getElementById(\"1P2xR0\");\n",
       "   let fig = null;\n",
       "   \n",
       "   function renderPlot() {\n",
       "       if (fig === null) {\n",
       "           const plotSpec = {\n",
       "\"data\":{\n",
       "\"metric\":[\"multi_lang_ir_cosine_recall@10\",\"en_ir_cosine_recall@10\",\"ne_ir_cosine_recall@10\",\"translation_mean_accuracy\",\"multi_lang_ir_cosine_recall@10\",\"en_ir_cosine_recall@10\",\"ne_ir_cosine_recall@10\",\"translation_mean_accuracy\",\"multi_lang_ir_cosine_recall@10\",\"en_ir_cosine_recall@10\",\"ne_ir_cosine_recall@10\",\"translation_mean_accuracy\",\"multi_lang_ir_cosine_recall@10\",\"en_ir_cosine_recall@10\",\"ne_ir_cosine_recall@10\",\"translation_mean_accuracy\"],\n",
       "\"value\":[0.929187471629596,0.9701704545454546,0.914609739826551,0.4960159362549801,0.9714026327734907,0.9730113636363636,0.971314209472982,0.8399734395750332,0.9655015887426237,0.984375,0.9586390927284857,0.7144754316069057,0.9455288243304585,0.9744318181818182,0.9366244162775184,0.5823373173970784],\n",
       "\"model\":[\"nep_mini_lm_v2\",\"nep_mini_lm_v2\",\"nep_mini_lm_v2\",\"nep_mini_lm_v2\",\"e5_small\",\"e5_small\",\"e5_small\",\"e5_small\",\"nep_mini_lm_v3\",\"nep_mini_lm_v3\",\"nep_mini_lm_v3\",\"nep_mini_lm_v3\",\"nep_mini_lm_v3.1\",\"nep_mini_lm_v3.1\",\"nep_mini_lm_v3.1\",\"nep_mini_lm_v3.1\"]\n",
       "},\n",
       "\"mapping\":{\n",
       "\"x\":\"model\",\n",
       "\"y\":\"value\",\n",
       "\"fill\":\"model\"\n",
       "},\n",
       "\"data_meta\":{\n",
       "\"series_annotations\":[{\n",
       "\"type\":\"str\",\n",
       "\"column\":\"metric\"\n",
       "},{\n",
       "\"type\":\"float\",\n",
       "\"column\":\"value\"\n",
       "},{\n",
       "\"type\":\"str\",\n",
       "\"column\":\"model\"\n",
       "}]\n",
       "},\n",
       "\"facet\":{\n",
       "\"name\":\"wrap\",\n",
       "\"facets\":\"metric\",\n",
       "\"ncol\":2.0,\n",
       "\"order\":1.0,\n",
       "\"dir\":\"h\"\n",
       "},\n",
       "\"theme\":{\n",
       "\"name\":\"minimal2\"\n",
       "},\n",
       "\"kind\":\"plot\",\n",
       "\"scales\":[],\n",
       "\"layers\":[{\n",
       "\"geom\":\"bar\",\n",
       "\"stat\":\"identity\",\n",
       "\"mapping\":{\n",
       "},\n",
       "\"data_meta\":{\n",
       "},\n",
       "\"data\":{\n",
       "}\n",
       "},{\n",
       "\"geom\":\"text\",\n",
       "\"mapping\":{\n",
       "\"label\":\"value\"\n",
       "},\n",
       "\"data_meta\":{\n",
       "},\n",
       "\"label_format\":\".2f\",\n",
       "\"data\":{\n",
       "}\n",
       "}],\n",
       "\"metainfo_list\":[],\n",
       "\"spec_id\":\"3\"\n",
       "};\n",
       "           window.letsPlotCall(function() { fig = LetsPlot.buildPlotFromProcessedSpecs(plotSpec, containerDiv, sizing); });\n",
       "       } else {\n",
       "           fig.updateView({});\n",
       "       }\n",
       "   }\n",
       "   \n",
       "   const renderImmediately = \n",
       "       forceImmediateRender || (\n",
       "           sizing.width_mode === 'FIXED' && \n",
       "           (sizing.height_mode === 'FIXED' || sizing.height_mode === 'SCALED')\n",
       "       );\n",
       "   \n",
       "   if (renderImmediately) {\n",
       "       renderPlot();\n",
       "   }\n",
       "   \n",
       "   if (!renderImmediately || responsive) {\n",
       "       // Set up observer for initial sizing or continuous monitoring\n",
       "       var observer = new ResizeObserver(function(entries) {\n",
       "           for (let entry of entries) {\n",
       "               if (entry.contentBoxSize && \n",
       "                   entry.contentBoxSize[0].inlineSize > 0) {\n",
       "                   if (!responsive && observer) {\n",
       "                       observer.disconnect();\n",
       "                       observer = null;\n",
       "                   }\n",
       "                   renderPlot();\n",
       "                   if (!responsive) {\n",
       "                       break;\n",
       "                   }\n",
       "               }\n",
       "           }\n",
       "       });\n",
       "       \n",
       "       observer.observe(containerDiv);\n",
       "   }\n",
       "   \n",
       "   // ----------\n",
       "   })();\n",
       "   \n",
       "   </script>"
      ],
      "text/plain": [
       "<lets_plot.plot.core.PlotSpec at 0x773643ec31d0>"
      ]
     },
     "execution_count": 10,
     "metadata": {},
     "output_type": "execute_result"
    }
   ],
   "source": [
    "exp = variant.experiment\n",
    "all_models = {\n",
    "    'nep_mini_lm_v2': nep_mini_lm_v2,\n",
    "    'e5_small': e5_small,\n",
    "    'nep_mini_lm_v3': nep_mini_lm_v3,\n",
    "    'nep_mini_lm_v3.1': variant.model,\n",
    "}\n",
    "exp.compare(models=all_models)\n",
    "exp.plot_model_comparison()"
   ]
  }
 ],
 "metadata": {
  "kernelspec": {
   "display_name": ".venv",
   "language": "python",
   "name": "python3"
  },
  "language_info": {
   "codemirror_mode": {
    "name": "ipython",
    "version": 3
   },
   "file_extension": ".py",
   "mimetype": "text/x-python",
   "name": "python",
   "nbconvert_exporter": "python",
   "pygments_lexer": "ipython3",
   "version": "3.11.9"
  }
 },
 "nbformat": 4,
 "nbformat_minor": 5
}
