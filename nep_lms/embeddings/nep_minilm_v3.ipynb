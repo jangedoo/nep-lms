{
 "cells": [
  {
   "cell_type": "code",
   "execution_count": 1,
   "id": "7320b39c",
   "metadata": {},
   "outputs": [],
   "source": [
    "%load_ext autoreload\n",
    "%autoreload 2"
   ]
  },
  {
   "cell_type": "code",
   "execution_count": 22,
   "id": "886a598e",
   "metadata": {},
   "outputs": [
    {
     "data": {
      "application/vnd.jupyter.widget-view+json": {
       "model_id": "c337afe876ee43c0b7720f66b89dcdb4",
       "version_major": 2,
       "version_minor": 0
      },
      "text/plain": [
       "Computing widget examples:   0%|          | 0/1 [00:00<?, ?example/s]"
      ]
     },
     "metadata": {},
     "output_type": "display_data"
    },
    {
     "data": {
      "text/html": [
       "\n",
       "    <div>\n",
       "      \n",
       "      <progress value='900' max='2680' style='width:300px; height:20px; vertical-align: middle;'></progress>\n",
       "      [ 900/2680 03:09 < 06:16, 4.73 it/s, Epoch 3/10]\n",
       "    </div>\n",
       "    <table border=\"1\" class=\"dataframe\">\n",
       "  <thead>\n",
       " <tr style=\"text-align: left;\">\n",
       "      <th>Step</th>\n",
       "      <th>Training Loss</th>\n",
       "      <th>Validation Loss</th>\n",
       "      <th>Stsb Ne Loss</th>\n",
       "    </tr>\n",
       "  </thead>\n",
       "  <tbody>\n",
       "    <tr>\n",
       "      <td>100</td>\n",
       "      <td>15.521700</td>\n",
       "      <td>No log</td>\n",
       "      <td>7.903134</td>\n",
       "    </tr>\n",
       "    <tr>\n",
       "      <td>200</td>\n",
       "      <td>10.490000</td>\n",
       "      <td>No log</td>\n",
       "      <td>3.823784</td>\n",
       "    </tr>\n",
       "    <tr>\n",
       "      <td>300</td>\n",
       "      <td>7.481900</td>\n",
       "      <td>No log</td>\n",
       "      <td>3.242339</td>\n",
       "    </tr>\n",
       "    <tr>\n",
       "      <td>400</td>\n",
       "      <td>7.425300</td>\n",
       "      <td>No log</td>\n",
       "      <td>3.220567</td>\n",
       "    </tr>\n",
       "    <tr>\n",
       "      <td>500</td>\n",
       "      <td>7.408100</td>\n",
       "      <td>No log</td>\n",
       "      <td>3.179223</td>\n",
       "    </tr>\n",
       "    <tr>\n",
       "      <td>600</td>\n",
       "      <td>7.344300</td>\n",
       "      <td>No log</td>\n",
       "      <td>3.226878</td>\n",
       "    </tr>\n",
       "    <tr>\n",
       "      <td>700</td>\n",
       "      <td>7.322100</td>\n",
       "      <td>No log</td>\n",
       "      <td>3.210880</td>\n",
       "    </tr>\n",
       "    <tr>\n",
       "      <td>800</td>\n",
       "      <td>7.319700</td>\n",
       "      <td>No log</td>\n",
       "      <td>3.209543</td>\n",
       "    </tr>\n",
       "    <tr>\n",
       "      <td>900</td>\n",
       "      <td>7.252900</td>\n",
       "      <td>No log</td>\n",
       "      <td>3.271944</td>\n",
       "    </tr>\n",
       "  </tbody>\n",
       "</table><p>"
      ],
      "text/plain": [
       "<IPython.core.display.HTML object>"
      ]
     },
     "metadata": {},
     "output_type": "display_data"
    },
    {
     "data": {
      "text/plain": [
       "<sentence_transformers.trainer.SentenceTransformerTrainer at 0x7a7d7570ad50>"
      ]
     },
     "execution_count": 22,
     "metadata": {},
     "output_type": "execute_result"
    }
   ],
   "source": [
    "from nep_lms.embeddings.variants import MiniLML6V3Variant\n",
    "\n",
    "variant = MiniLML6V3Variant()\n",
    "variant.train(epochs=10, lr=2e-5, early_stop=True, early_stop_patience=4, push_to_hub=False)"
   ]
  },
  {
   "cell_type": "code",
   "execution_count": 85,
   "id": "1887a91e",
   "metadata": {},
   "outputs": [],
   "source": [
    "# variant.push_to_hub()"
   ]
  },
  {
   "cell_type": "code",
   "execution_count": 4,
   "id": "7c8c8b07",
   "metadata": {},
   "outputs": [],
   "source": [
    "from sentence_transformers import SentenceTransformer\n",
    "nep_mini_lm_v2 = SentenceTransformer(\"jangedoo/all-MiniLM-L6-v2-nepali\")\n",
    "nep_mini_lm_v3 = SentenceTransformer(\"jangedoo/all-MiniLM-L6-v3-nepali\")\n",
    "e5_small = SentenceTransformer(\"intfloat/multilingual-e5-small\")"
   ]
  },
  {
   "cell_type": "code",
   "execution_count": 23,
   "id": "53bbb56b",
   "metadata": {},
   "outputs": [
    {
     "data": {
      "text/html": [
       "\n",
       "            <div id=\"WNdRfr\"></div>\n",
       "            <script type=\"text/javascript\" data-lets-plot-script=\"library\">\n",
       "                if(!window.letsPlotCallQueue) {\n",
       "                    window.letsPlotCallQueue = [];\n",
       "                }; \n",
       "                window.letsPlotCall = function(f) {\n",
       "                    window.letsPlotCallQueue.push(f);\n",
       "                };\n",
       "                (function() {\n",
       "                    var script = document.createElement(\"script\");\n",
       "                    script.type = \"text/javascript\";\n",
       "                    script.src = \"https://cdn.jsdelivr.net/gh/JetBrains/lets-plot@v4.6.2/js-package/distr/lets-plot.min.js\";\n",
       "                    script.onload = function() {\n",
       "                        window.letsPlotCall = function(f) {f();};\n",
       "                        window.letsPlotCallQueue.forEach(function(f) {f();});\n",
       "                        window.letsPlotCallQueue = [];\n",
       "                        \n",
       "                    };\n",
       "                    script.onerror = function(event) {\n",
       "                        window.letsPlotCall = function(f) {};    // noop\n",
       "                        window.letsPlotCallQueue = [];\n",
       "                        var div = document.createElement(\"div\");\n",
       "                        div.style.color = 'darkred';\n",
       "                        div.textContent = 'Error loading Lets-Plot JS';\n",
       "                        document.getElementById(\"WNdRfr\").appendChild(div);\n",
       "                    };\n",
       "                    var e = document.getElementById(\"WNdRfr\");\n",
       "                    e.appendChild(script);\n",
       "                })()\n",
       "            </script>\n",
       "            "
      ]
     },
     "metadata": {},
     "output_type": "display_data"
    },
    {
     "data": {
      "text/html": [
       "   <div id=\"MGqFBT\"></div>\n",
       "   <script type=\"text/javascript\" data-lets-plot-script=\"plot\">\n",
       "   \n",
       "   (function() {\n",
       "   // ----------\n",
       "   \n",
       "   const forceImmediateRender = false;\n",
       "   const responsive = false;\n",
       "   \n",
       "   let sizing = {\n",
       "       width_mode: \"MIN\",\n",
       "       height_mode: \"SCALED\",\n",
       "       width: null, \n",
       "       height: null \n",
       "   };\n",
       "   \n",
       "   const preferredWidth = document.body.dataset.letsPlotPreferredWidth;\n",
       "   if (preferredWidth !== undefined) {\n",
       "       sizing = {\n",
       "           width_mode: 'FIXED',\n",
       "           height_mode: 'SCALED',\n",
       "           width: parseFloat(preferredWidth)\n",
       "       };\n",
       "   }\n",
       "   \n",
       "   const containerDiv = document.getElementById(\"MGqFBT\");\n",
       "   let fig = null;\n",
       "   \n",
       "   function renderPlot() {\n",
       "       if (fig === null) {\n",
       "           const plotSpec = {\n",
       "\"data\":{\n",
       "\"metric\":[\"multi_lang_ir_cosine_recall@10\",\"en_ir_cosine_recall@10\",\"ne_ir_cosine_recall@10\",\"translation_mean_accuracy\",\"nepali_triplets_cosine_accuracy\",\"stsb_en_pearson_cosine\",\"stsb_ne_pearson_cosine\",\"multi_lang_ir_cosine_recall@10\",\"en_ir_cosine_recall@10\",\"ne_ir_cosine_recall@10\",\"translation_mean_accuracy\",\"nepali_triplets_cosine_accuracy\",\"stsb_en_pearson_cosine\",\"stsb_ne_pearson_cosine\",\"multi_lang_ir_cosine_recall@10\",\"en_ir_cosine_recall@10\",\"ne_ir_cosine_recall@10\",\"translation_mean_accuracy\",\"nepali_triplets_cosine_accuracy\",\"stsb_en_pearson_cosine\",\"stsb_ne_pearson_cosine\",\"multi_lang_ir_cosine_recall@10\",\"en_ir_cosine_recall@10\",\"ne_ir_cosine_recall@10\",\"translation_mean_accuracy\",\"nepali_triplets_cosine_accuracy\",\"stsb_en_pearson_cosine\",\"stsb_ne_pearson_cosine\"],\n",
       "\"value\":[0.9129891756869276,0.9670050761421319,0.8928128872366791,0.4960159362549801,0.375,0.8662062868411836,0.6522294330056909,0.9675270607826811,0.9771573604060914,0.9640644361833953,0.8399734395750332,0.009999999776482582,0.856923612989975,0.7436489166958028,0.9712739383846795,0.9911167512690355,0.9640644361833953,0.7377158034528553,0.4449999928474426,0.8553243994103911,0.6508414448856487,0.8318068276436303,0.9644670050761421,0.8345724907063197,0.3930942895086321,0.0,0.785774164744063,0.701731886002637],\n",
       "\"model\":[\"nep_mini_lm_v2\",\"nep_mini_lm_v2\",\"nep_mini_lm_v2\",\"nep_mini_lm_v2\",\"nep_mini_lm_v2\",\"nep_mini_lm_v2\",\"nep_mini_lm_v2\",\"e5_small\",\"e5_small\",\"e5_small\",\"e5_small\",\"e5_small\",\"e5_small\",\"e5_small\",\"nep_mini_lm_v3\",\"nep_mini_lm_v3\",\"nep_mini_lm_v3\",\"nep_mini_lm_v3\",\"nep_mini_lm_v3\",\"nep_mini_lm_v3\",\"nep_mini_lm_v3\",\"nep_mini_lm_v3.1\",\"nep_mini_lm_v3.1\",\"nep_mini_lm_v3.1\",\"nep_mini_lm_v3.1\",\"nep_mini_lm_v3.1\",\"nep_mini_lm_v3.1\",\"nep_mini_lm_v3.1\"]\n",
       "},\n",
       "\"mapping\":{\n",
       "\"x\":\"model\",\n",
       "\"y\":\"value\",\n",
       "\"fill\":\"model\"\n",
       "},\n",
       "\"data_meta\":{\n",
       "\"series_annotations\":[{\n",
       "\"type\":\"str\",\n",
       "\"column\":\"metric\"\n",
       "},{\n",
       "\"type\":\"float\",\n",
       "\"column\":\"value\"\n",
       "},{\n",
       "\"type\":\"str\",\n",
       "\"column\":\"model\"\n",
       "}]\n",
       "},\n",
       "\"facet\":{\n",
       "\"name\":\"wrap\",\n",
       "\"facets\":\"metric\",\n",
       "\"ncol\":2.0,\n",
       "\"order\":1.0,\n",
       "\"dir\":\"h\"\n",
       "},\n",
       "\"theme\":{\n",
       "\"name\":\"minimal2\"\n",
       "},\n",
       "\"kind\":\"plot\",\n",
       "\"scales\":[],\n",
       "\"layers\":[{\n",
       "\"geom\":\"bar\",\n",
       "\"stat\":\"identity\",\n",
       "\"mapping\":{\n",
       "},\n",
       "\"data_meta\":{\n",
       "},\n",
       "\"data\":{\n",
       "}\n",
       "},{\n",
       "\"geom\":\"text\",\n",
       "\"mapping\":{\n",
       "\"label\":\"value\"\n",
       "},\n",
       "\"data_meta\":{\n",
       "},\n",
       "\"label_format\":\".2f\",\n",
       "\"data\":{\n",
       "}\n",
       "}],\n",
       "\"metainfo_list\":[],\n",
       "\"spec_id\":\"4\"\n",
       "};\n",
       "           window.letsPlotCall(function() { fig = LetsPlot.buildPlotFromProcessedSpecs(plotSpec, containerDiv, sizing); });\n",
       "       } else {\n",
       "           fig.updateView({});\n",
       "       }\n",
       "   }\n",
       "   \n",
       "   const renderImmediately = \n",
       "       forceImmediateRender || (\n",
       "           sizing.width_mode === 'FIXED' && \n",
       "           (sizing.height_mode === 'FIXED' || sizing.height_mode === 'SCALED')\n",
       "       );\n",
       "   \n",
       "   if (renderImmediately) {\n",
       "       renderPlot();\n",
       "   }\n",
       "   \n",
       "   if (!renderImmediately || responsive) {\n",
       "       // Set up observer for initial sizing or continuous monitoring\n",
       "       var observer = new ResizeObserver(function(entries) {\n",
       "           for (let entry of entries) {\n",
       "               if (entry.contentBoxSize && \n",
       "                   entry.contentBoxSize[0].inlineSize > 0) {\n",
       "                   if (!responsive && observer) {\n",
       "                       observer.disconnect();\n",
       "                       observer = null;\n",
       "                   }\n",
       "                   renderPlot();\n",
       "                   if (!responsive) {\n",
       "                       break;\n",
       "                   }\n",
       "               }\n",
       "           }\n",
       "       });\n",
       "       \n",
       "       observer.observe(containerDiv);\n",
       "   }\n",
       "   \n",
       "   // ----------\n",
       "   })();\n",
       "   \n",
       "   </script>"
      ],
      "text/plain": [
       "<lets_plot.plot.core.PlotSpec at 0x7a7c7a7c7d90>"
      ]
     },
     "execution_count": 23,
     "metadata": {},
     "output_type": "execute_result"
    }
   ],
   "source": [
    "exp = variant.experiment\n",
    "all_models = {\n",
    "    'nep_mini_lm_v2': nep_mini_lm_v2,\n",
    "    'e5_small': e5_small,\n",
    "    'nep_mini_lm_v3': nep_mini_lm_v3,\n",
    "    'nep_mini_lm_v3.1': variant.model,\n",
    "}\n",
    "exp.compare(models=all_models)\n",
    "exp.plot_model_comparison()"
   ]
  },
  {
   "cell_type": "code",
   "execution_count": 24,
   "id": "f15eda71",
   "metadata": {},
   "outputs": [],
   "source": [
    "import easyknn\n",
    "\n",
    "texts = exp.nepali_news_ds['valid']['excerpt']\n",
    "v2_embeddings = nep_mini_lm_v2.encode(texts, convert_to_numpy=True)\n",
    "v3_embeddings = variant.model.encode(texts, convert_to_numpy=True)\n",
    "e5_embeddings = e5_small.encode(texts, convert_to_numpy=True)\n",
    "\n",
    "def get_knn(embeddings, texts):\n",
    "    builder = easyknn.EmbeddingsIndexBuilder()\n",
    "    builder.add(embeddings=embeddings, item_keys=range(len(texts)), items=texts)\n",
    "    return easyknn.EasyKNN.from_builder_with_sklearn(builder=builder)\n",
    "\n",
    "v2_knn = get_knn(v2_embeddings, texts)\n",
    "v3_knn = get_knn(v3_embeddings, texts)\n",
    "e5_knn = get_knn(e5_embeddings, texts)"
   ]
  },
  {
   "cell_type": "code",
   "execution_count": 27,
   "id": "22479ea4",
   "metadata": {},
   "outputs": [
    {
     "data": {
      "application/vnd.jupyter.widget-view+json": {
       "model_id": "25caf10ba88d4e25a3769c4dd1a652fc",
       "version_major": 2,
       "version_minor": 0
      },
      "text/plain": [
       "HBox(children=(VBox(children=(HTML(value='v2<br/><ul><li>जन्तेढुङ्गा गाउँपालिका–५ चिसापानीस्थित होङ्मा पोखरी प…"
      ]
     },
     "execution_count": 27,
     "metadata": {},
     "output_type": "execute_result"
    }
   ],
   "source": [
    "import ipywidgets as w\n",
    "\n",
    "item_idx = 12\n",
    "v2_results, v2_distances = v2_knn.neighbors_by_item(item=item_idx, k=4)\n",
    "v3_results, v3_distances = v3_knn.neighbors_by_item(item=item_idx, k=4)\n",
    "e5_results, e5_distances = e5_knn.neighbors_by_item(item=item_idx, k=4)\n",
    "\n",
    "w.HBox([\n",
    "    w.VBox([w.HTML(\"v2<br/><ul>\" + \"\\n\".join([f\"<li>{txt} ({dist:.2f})</li>\" for txt, dist in zip(v2_results, v2_distances)]) + \"</ul>\")]),\n",
    "    w.VBox([w.HTML(\"v3<br/><ul>\" + \"\\n\".join([f\"<li>{txt} ({dist:.2f})</li>\" for txt, dist in zip(v3_results, v3_distances)]) + \"</ul>\")]),\n",
    "    w.VBox([w.HTML(\"e5<br/><ul>\" + \"\\n\".join([f\"<li>{txt} ({dist:.2f})</li>\" for txt, dist in zip(e5_results, e5_distances)]) + \"</ul>\")]),\n",
    "])"
   ]
  }
 ],
 "metadata": {
  "kernelspec": {
   "display_name": ".venv",
   "language": "python",
   "name": "python3"
  },
  "language_info": {
   "codemirror_mode": {
    "name": "ipython",
    "version": 3
   },
   "file_extension": ".py",
   "mimetype": "text/x-python",
   "name": "python",
   "nbconvert_exporter": "python",
   "pygments_lexer": "ipython3",
   "version": "3.11.9"
  }
 },
 "nbformat": 4,
 "nbformat_minor": 5
}
